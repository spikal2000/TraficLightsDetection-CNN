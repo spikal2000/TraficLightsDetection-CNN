{
  "cells": [
    {
      "cell_type": "code",
      "source": [
        "from google.colab import drive\n",
        "drive.mount('/content/drive')"
      ],
      "metadata": {
        "colab": {
          "base_uri": "https://localhost:8080/"
        },
        "id": "kHbsRwDNO5ux",
        "outputId": "4ec406e4-77d0-416f-c46c-7f1f0019a0c4"
      },
      "execution_count": 8,
      "outputs": [
        {
          "output_type": "stream",
          "name": "stdout",
          "text": [
            "Mounted at /content/drive\n"
          ]
        }
      ]
    },
    {
      "cell_type": "code",
      "execution_count": 1,
      "metadata": {
        "id": "DEKxWFBEgj-x"
      },
      "outputs": [],
      "source": [
        "import tensorflow as tf\n",
        "from tensorflow.keras.preprocessing.image import ImageDataGenerator\n",
        "from tensorflow.keras.models import Sequential\n",
        "from tensorflow.keras.layers import Conv2D, MaxPooling2D, Dropout, Flatten, Dense\n",
        "import pandas as pd\n",
        "from sklearn.model_selection import train_test_split\n",
        "from tensorflow.keras.preprocessing.image import load_img, img_to_array\n",
        "import numpy as np\n",
        "import cv2\n",
        "import keras\n"
      ]
    },
    {
      "cell_type": "code",
      "execution_count": 2,
      "metadata": {
        "id": "8nIF5QItexW8",
        "colab": {
          "base_uri": "https://localhost:8080/"
        },
        "outputId": "46dbc8a5-f660-4fc8-afc7-03ed98c9ab4b"
      },
      "outputs": [
        {
          "output_type": "stream",
          "name": "stdout",
          "text": [
            "Requirement already satisfied: kaggle in /usr/local/lib/python3.10/dist-packages (1.5.15)\n",
            "Requirement already satisfied: six>=1.10 in /usr/local/lib/python3.10/dist-packages (from kaggle) (1.16.0)\n",
            "Requirement already satisfied: certifi in /usr/local/lib/python3.10/dist-packages (from kaggle) (2023.5.7)\n",
            "Requirement already satisfied: python-dateutil in /usr/local/lib/python3.10/dist-packages (from kaggle) (2.8.2)\n",
            "Requirement already satisfied: requests in /usr/local/lib/python3.10/dist-packages (from kaggle) (2.27.1)\n",
            "Requirement already satisfied: tqdm in /usr/local/lib/python3.10/dist-packages (from kaggle) (4.65.0)\n",
            "Requirement already satisfied: python-slugify in /usr/local/lib/python3.10/dist-packages (from kaggle) (8.0.1)\n",
            "Requirement already satisfied: urllib3 in /usr/local/lib/python3.10/dist-packages (from kaggle) (1.26.16)\n",
            "Requirement already satisfied: bleach in /usr/local/lib/python3.10/dist-packages (from kaggle) (6.0.0)\n",
            "Requirement already satisfied: webencodings in /usr/local/lib/python3.10/dist-packages (from bleach->kaggle) (0.5.1)\n",
            "Requirement already satisfied: text-unidecode>=1.3 in /usr/local/lib/python3.10/dist-packages (from python-slugify->kaggle) (1.3)\n",
            "Requirement already satisfied: charset-normalizer~=2.0.0 in /usr/local/lib/python3.10/dist-packages (from requests->kaggle) (2.0.12)\n",
            "Requirement already satisfied: idna<4,>=2.5 in /usr/local/lib/python3.10/dist-packages (from requests->kaggle) (3.4)\n",
            "Downloading gtsrb-german-traffic-sign.zip to /content/dataset\n",
            " 98% 601M/612M [00:05<00:00, 152MB/s]\n",
            "100% 612M/612M [00:05<00:00, 118MB/s]\n"
          ]
        }
      ],
      "source": [
        "!pip install kaggle\n",
        "\n",
        "import os\n",
        "import zipfile\n",
        "\n",
        "# Set up Kaggle API credentials\n",
        "os.environ['KAGGLE_USERNAME'] = 'spikal2000'\n",
        "os.environ['KAGGLE_KEY'] = '8974f6a7db0a94d996b1579c714faa18'\n",
        "\n",
        "# Download the dataset using Kaggle API\n",
        "dataset_name = 'meowmeowmeowmeowmeow/gtsrb-german-traffic-sign'\n",
        "output_dir = '/content/dataset'\n",
        "\n",
        "os.makedirs(output_dir, exist_ok=True)\n",
        "os.chdir(output_dir)\n",
        "\n",
        "!kaggle datasets download -d $dataset_name\n",
        "\n",
        "# Unzip the downloaded dataset\n",
        "with zipfile.ZipFile(os.path.join(output_dir, dataset_name.split('/')[1] + '.zip'), 'r') as zip_ref:\n",
        "    zip_ref.extractall()\n",
        "\n",
        "# Continue with the rest of the code for data preprocessing, model training, and object detection\n"
      ]
    },
    {
      "cell_type": "code",
      "execution_count": 3,
      "metadata": {
        "id": "_ZPSZFL1e4Us"
      },
      "outputs": [],
      "source": [
        "import pandas as pd\n",
        "from tensorflow.keras.utils import to_categorical\n",
        "from tensorflow.keras.preprocessing.image import load_img, img_to_array\n",
        "import tensorflow as tf\n",
        "class DataGenerator(tf.keras.utils.Sequence):\n",
        "    'Generates data for Keras'\n",
        "    def __init__(self, csv_file, batch_size=32, dim=(32, 32), n_channels=3, n_classes=43, shuffle=True):\n",
        "        'Initialization'\n",
        "        self.dim = dim\n",
        "        self.batch_size = batch_size\n",
        "        self.labels = pd.read_csv(csv_file)\n",
        "        self.n_channels = n_channels\n",
        "        self.n_classes = n_classes\n",
        "        self.shuffle = shuffle\n",
        "        self.on_epoch_end()\n",
        "\n",
        "    def __len__(self):\n",
        "        'Denotes the number of batches per epoch'\n",
        "        return int(np.floor(len(self.labels) / self.batch_size))\n",
        "\n",
        "    def __getitem__(self, index):\n",
        "        'Generate one batch of data'\n",
        "        # Generate indexes of the batch\n",
        "        indexes = self.indexes[index*self.batch_size:(index+1)*self.batch_size]\n",
        "\n",
        "        # Find list of IDs\n",
        "        list_IDs_temp = [self.labels['Path'].values[k] for k in indexes]\n",
        "\n",
        "        # Generate data\n",
        "        X, y = self.__data_generation(list_IDs_temp)\n",
        "\n",
        "        return X, y\n",
        "\n",
        "    def on_epoch_end(self):\n",
        "        'Updates indexes after each epoch'\n",
        "        self.indexes = np.arange(len(self.labels))\n",
        "        if self.shuffle == True:\n",
        "            np.random.shuffle(self.indexes)\n",
        "\n",
        "    def __data_generation(self, list_IDs_temp):\n",
        "      \"\"\"Generates data containing batch_size samples\"\"\"\n",
        "      # Initialization\n",
        "      X = np.empty((self.batch_size, *self.dim, self.n_channels))\n",
        "      y = np.empty((self.batch_size), dtype=int)\n",
        "\n",
        "      # Generate data\n",
        "      for i, ID in enumerate(list_IDs_temp):\n",
        "          # Load image\n",
        "          img = cv2.imread(ID)\n",
        "          img = cv2.cvtColor(img, cv2.COLOR_BGR2RGB)\n",
        "\n",
        "          # Extract ROI and resize it\n",
        "          roi = self.labels.loc[self.labels['Path'] == ID, ['Roi.X1','Roi.Y1','Roi.X2','Roi.Y2']].values[0]\n",
        "          img = img[roi[1]:roi[3], roi[0]:roi[2], :]  # Extract ROI\n",
        "          img = tf.image.resize(img, [self.dim[0], self.dim[1]])  # Resize the ROI to match the input shape\n",
        "          img = img / 255.  # normalize pixel values to [0, 1]\n",
        "\n",
        "          # Store samples\n",
        "          X[i,] = img\n",
        "\n",
        "          # Store class\n",
        "          y[i] = self.labels.loc[self.labels['Path'] == ID, 'ClassId']\n",
        "\n",
        "      return X, keras.utils.to_categorical(y, num_classes=self.n_classes)\n",
        "\n"
      ]
    },
    {
      "cell_type": "code",
      "execution_count": 4,
      "metadata": {
        "id": "eutK-0logLrN"
      },
      "outputs": [],
      "source": [
        "import numpy as np"
      ]
    },
    {
      "cell_type": "code",
      "execution_count": 5,
      "metadata": {
        "id": "7uxlv-bYgcvA"
      },
      "outputs": [],
      "source": [
        "# Define the model\n",
        "model = Sequential()\n",
        "\n",
        "model.add(Conv2D(32, (3, 3), activation='relu', input_shape=(32, 32, 3)))\n",
        "model.add(Conv2D(32, (3, 3), activation='relu'))\n",
        "model.add(MaxPooling2D(pool_size=(2, 2)))\n",
        "model.add(Dropout(0.25))\n",
        "\n",
        "model.add(Conv2D(64, (3, 3), activation='relu'))\n",
        "model.add(Conv2D(64, (3, 3), activation='relu'))\n",
        "model.add(MaxPooling2D(pool_size=(2, 2)))\n",
        "model.add(Dropout(0.25))\n",
        "\n",
        "model.add(Flatten())\n",
        "model.add(Dense(512, activation='relu'))\n",
        "model.add(Dropout(0.5))\n",
        "model.add(Dense(43, activation='softmax'))\n",
        "\n",
        "# Compile the model\n",
        "model.compile(loss='categorical_crossentropy', optimizer='adam', metrics=['accuracy'])\n"
      ]
    },
    {
      "cell_type": "code",
      "execution_count": 14,
      "metadata": {
        "colab": {
          "base_uri": "https://localhost:8080/"
        },
        "id": "uGjdawG0f4mk",
        "outputId": "54d4122b-d14e-43a6-c8dc-489b4479665f"
      },
      "outputs": [
        {
          "output_type": "stream",
          "name": "stdout",
          "text": [
            "Epoch 1/55\n",
            "603/603 [==============================] - 391s 649ms/step - loss: 0.0268 - accuracy: 0.9917 - val_loss: 0.1248 - val_accuracy: 0.9729\n",
            "Epoch 2/55\n",
            "603/603 [==============================] - 402s 668ms/step - loss: 0.0267 - accuracy: 0.9916 - val_loss: 0.0890 - val_accuracy: 0.9789\n",
            "Epoch 3/55\n",
            "603/603 [==============================] - 395s 655ms/step - loss: 0.0230 - accuracy: 0.9930 - val_loss: 0.0851 - val_accuracy: 0.9769\n",
            "Epoch 4/55\n",
            "603/603 [==============================] - 393s 652ms/step - loss: 0.0260 - accuracy: 0.9926 - val_loss: 0.0750 - val_accuracy: 0.9823\n",
            "Epoch 5/55\n",
            "603/603 [==============================] - 391s 649ms/step - loss: 0.0224 - accuracy: 0.9927 - val_loss: 0.0729 - val_accuracy: 0.9817\n",
            "Epoch 6/55\n",
            "603/603 [==============================] - 389s 645ms/step - loss: 0.0215 - accuracy: 0.9929 - val_loss: 0.1243 - val_accuracy: 0.9772\n",
            "Epoch 7/55\n",
            "603/603 [==============================] - 391s 649ms/step - loss: 0.0197 - accuracy: 0.9937 - val_loss: 0.0999 - val_accuracy: 0.9780\n",
            "Epoch 8/55\n",
            "603/603 [==============================] - 393s 652ms/step - loss: 0.0211 - accuracy: 0.9939 - val_loss: 0.0953 - val_accuracy: 0.9773\n",
            "Epoch 9/55\n",
            "603/603 [==============================] - 394s 653ms/step - loss: 0.0167 - accuracy: 0.9949 - val_loss: 0.1079 - val_accuracy: 0.9757\n",
            "Epoch 10/55\n",
            "603/603 [==============================] - 391s 649ms/step - loss: 0.0151 - accuracy: 0.9955 - val_loss: 0.1260 - val_accuracy: 0.9794\n",
            "Epoch 11/55\n",
            "603/603 [==============================] - 394s 653ms/step - loss: 0.0195 - accuracy: 0.9945 - val_loss: 0.0963 - val_accuracy: 0.9809\n",
            "Epoch 12/55\n",
            "603/603 [==============================] - 393s 651ms/step - loss: 0.0152 - accuracy: 0.9955 - val_loss: 0.0968 - val_accuracy: 0.9801\n",
            "Epoch 13/55\n",
            "603/603 [==============================] - 391s 648ms/step - loss: 0.0171 - accuracy: 0.9949 - val_loss: 0.0886 - val_accuracy: 0.9799\n",
            "Epoch 14/55\n",
            "603/603 [==============================] - 392s 650ms/step - loss: 0.0155 - accuracy: 0.9958 - val_loss: 0.1315 - val_accuracy: 0.9797\n",
            "Epoch 15/55\n",
            "603/603 [==============================] - 397s 658ms/step - loss: 0.0116 - accuracy: 0.9966 - val_loss: 0.0932 - val_accuracy: 0.9811\n",
            "Epoch 16/55\n",
            "603/603 [==============================] - 393s 652ms/step - loss: 0.0158 - accuracy: 0.9954 - val_loss: 0.0873 - val_accuracy: 0.9807\n",
            "Epoch 17/55\n",
            "603/603 [==============================] - 392s 650ms/step - loss: 0.0154 - accuracy: 0.9959 - val_loss: 0.0801 - val_accuracy: 0.9816\n",
            "Epoch 18/55\n",
            "603/603 [==============================] - 396s 657ms/step - loss: 0.0148 - accuracy: 0.9957 - val_loss: 0.0891 - val_accuracy: 0.9792\n",
            "Epoch 19/55\n",
            "603/603 [==============================] - 394s 653ms/step - loss: 0.0102 - accuracy: 0.9966 - val_loss: 0.0879 - val_accuracy: 0.9835\n",
            "Epoch 20/55\n",
            "603/603 [==============================] - 393s 652ms/step - loss: 0.0120 - accuracy: 0.9969 - val_loss: 0.1057 - val_accuracy: 0.9821\n",
            "Epoch 21/55\n",
            "603/603 [==============================] - 391s 648ms/step - loss: 0.0183 - accuracy: 0.9946 - val_loss: 0.1289 - val_accuracy: 0.9767\n",
            "Epoch 22/55\n",
            "603/603 [==============================] - 390s 647ms/step - loss: 0.0139 - accuracy: 0.9962 - val_loss: 0.1151 - val_accuracy: 0.9807\n",
            "Epoch 23/55\n",
            "603/603 [==============================] - 391s 648ms/step - loss: 0.0084 - accuracy: 0.9977 - val_loss: 0.1196 - val_accuracy: 0.9816\n",
            "Epoch 24/55\n",
            "603/603 [==============================] - 391s 649ms/step - loss: 0.0122 - accuracy: 0.9962 - val_loss: 0.1023 - val_accuracy: 0.9812\n",
            "Epoch 25/55\n",
            "603/603 [==============================] - 391s 648ms/step - loss: 0.0111 - accuracy: 0.9970 - val_loss: 0.1286 - val_accuracy: 0.9780\n",
            "Epoch 26/55\n",
            "603/603 [==============================] - 390s 646ms/step - loss: 0.0144 - accuracy: 0.9962 - val_loss: 0.1029 - val_accuracy: 0.9814\n",
            "Epoch 27/55\n",
            "603/603 [==============================] - 390s 647ms/step - loss: 0.0135 - accuracy: 0.9961 - val_loss: 0.1267 - val_accuracy: 0.9767\n",
            "Epoch 28/55\n",
            "603/603 [==============================] - 400s 664ms/step - loss: 0.0109 - accuracy: 0.9971 - val_loss: 0.1383 - val_accuracy: 0.9765\n",
            "Epoch 29/55\n",
            "603/603 [==============================] - 408s 677ms/step - loss: 0.0108 - accuracy: 0.9970 - val_loss: 0.1368 - val_accuracy: 0.9790\n",
            "Epoch 30/55\n",
            "603/603 [==============================] - 405s 671ms/step - loss: 0.0144 - accuracy: 0.9961 - val_loss: 0.1020 - val_accuracy: 0.9820\n",
            "Epoch 31/55\n",
            "603/603 [==============================] - 409s 678ms/step - loss: 0.0106 - accuracy: 0.9974 - val_loss: 0.0951 - val_accuracy: 0.9822\n",
            "Epoch 32/55\n",
            "603/603 [==============================] - 405s 672ms/step - loss: 0.0089 - accuracy: 0.9978 - val_loss: 0.1271 - val_accuracy: 0.9818\n",
            "Epoch 33/55\n",
            "603/603 [==============================] - 405s 671ms/step - loss: 0.0139 - accuracy: 0.9963 - val_loss: 0.1277 - val_accuracy: 0.9782\n",
            "Epoch 34/55\n",
            "603/603 [==============================] - 399s 662ms/step - loss: 0.0133 - accuracy: 0.9969 - val_loss: 0.1459 - val_accuracy: 0.9784\n",
            "Epoch 35/55\n",
            "603/603 [==============================] - 402s 667ms/step - loss: 0.0115 - accuracy: 0.9967 - val_loss: 0.1662 - val_accuracy: 0.9782\n",
            "Epoch 36/55\n",
            "603/603 [==============================] - 399s 663ms/step - loss: 0.0144 - accuracy: 0.9966 - val_loss: 0.1147 - val_accuracy: 0.9814\n",
            "Epoch 37/55\n",
            "603/603 [==============================] - 381s 632ms/step - loss: 0.0093 - accuracy: 0.9977 - val_loss: 0.1002 - val_accuracy: 0.9844\n",
            "Epoch 38/55\n",
            "603/603 [==============================] - 383s 635ms/step - loss: 0.0128 - accuracy: 0.9968 - val_loss: 0.1281 - val_accuracy: 0.9823\n",
            "Epoch 39/55\n",
            "603/603 [==============================] - 379s 629ms/step - loss: 0.0123 - accuracy: 0.9970 - val_loss: 0.0868 - val_accuracy: 0.9836\n",
            "Epoch 40/55\n",
            "603/603 [==============================] - 378s 627ms/step - loss: 0.0083 - accuracy: 0.9972 - val_loss: 0.1349 - val_accuracy: 0.9809\n",
            "Epoch 41/55\n",
            "603/603 [==============================] - 381s 631ms/step - loss: 0.0139 - accuracy: 0.9967 - val_loss: 0.1047 - val_accuracy: 0.9849\n",
            "Epoch 42/55\n",
            "603/603 [==============================] - 384s 637ms/step - loss: 0.0115 - accuracy: 0.9971 - val_loss: 0.0857 - val_accuracy: 0.9858\n",
            "Epoch 43/55\n",
            "603/603 [==============================] - 387s 641ms/step - loss: 0.0116 - accuracy: 0.9977 - val_loss: 0.0820 - val_accuracy: 0.9864\n",
            "Epoch 44/55\n",
            "603/603 [==============================] - 382s 634ms/step - loss: 0.0087 - accuracy: 0.9978 - val_loss: 0.1015 - val_accuracy: 0.9849\n",
            "Epoch 45/55\n",
            "603/603 [==============================] - 381s 632ms/step - loss: 0.0109 - accuracy: 0.9974 - val_loss: 0.1150 - val_accuracy: 0.9819\n",
            "Epoch 46/55\n",
            "603/603 [==============================] - 381s 632ms/step - loss: 0.0090 - accuracy: 0.9975 - val_loss: 0.1065 - val_accuracy: 0.9853\n",
            "Epoch 47/55\n",
            "603/603 [==============================] - 380s 630ms/step - loss: 0.0072 - accuracy: 0.9980 - val_loss: 0.0970 - val_accuracy: 0.9838\n",
            "Epoch 48/55\n",
            "603/603 [==============================] - 370s 614ms/step - loss: 0.0131 - accuracy: 0.9968 - val_loss: 0.1192 - val_accuracy: 0.9838\n",
            "Epoch 49/55\n",
            "603/603 [==============================] - 372s 617ms/step - loss: 0.0155 - accuracy: 0.9967 - val_loss: 0.1789 - val_accuracy: 0.9807\n",
            "Epoch 50/55\n",
            "603/603 [==============================] - 371s 615ms/step - loss: 0.0095 - accuracy: 0.9973 - val_loss: 0.1724 - val_accuracy: 0.9779\n",
            "Epoch 51/55\n",
            "603/603 [==============================] - 371s 615ms/step - loss: 0.0099 - accuracy: 0.9974 - val_loss: 0.1483 - val_accuracy: 0.9834\n",
            "Epoch 52/55\n",
            "603/603 [==============================] - 369s 612ms/step - loss: 0.0151 - accuracy: 0.9969 - val_loss: 0.1765 - val_accuracy: 0.9806\n",
            "Epoch 53/55\n",
            "603/603 [==============================] - 372s 617ms/step - loss: 0.0138 - accuracy: 0.9972 - val_loss: 0.1304 - val_accuracy: 0.9796\n",
            "Epoch 54/55\n",
            "603/603 [==============================] - 371s 615ms/step - loss: 0.0091 - accuracy: 0.9978 - val_loss: 0.1672 - val_accuracy: 0.9811\n",
            "Epoch 55/55\n",
            "603/603 [==============================] - 373s 618ms/step - loss: 0.0108 - accuracy: 0.9976 - val_loss: 0.1293 - val_accuracy: 0.9822\n"
          ]
        },
        {
          "output_type": "execute_result",
          "data": {
            "text/plain": [
              "<keras.callbacks.History at 0x7ea45cf90cd0>"
            ]
          },
          "metadata": {},
          "execution_count": 14
        }
      ],
      "source": [
        "# Define parameters\n",
        "params = {'dim': (32, 32),\n",
        "          'batch_size': 65,\n",
        "          'n_classes': 43,\n",
        "          'n_channels': 3,\n",
        "          'shuffle': True}\n",
        "\n",
        "# Create generators\n",
        "training_generator = DataGenerator('/content/dataset/Train.csv', **params)\n",
        "validation_generator = DataGenerator('/content/dataset/Test.csv', **params)\n",
        "\n",
        "# Train model\n",
        "model.fit(training_generator, validation_data=validation_generator, epochs=55)\n"
      ]
    },
    {
      "cell_type": "code",
      "execution_count": 16,
      "metadata": {
        "id": "Iq8O4L0YgJn6"
      },
      "outputs": [],
      "source": [
        "model.save('/content/drive/MyDrive/Trained Models/new_fresh_model_signs.h5')\n"
      ]
    },
    {
      "cell_type": "code",
      "source": [],
      "metadata": {
        "id": "iS5-V_UfU7Jv"
      },
      "execution_count": null,
      "outputs": []
    }
  ],
  "metadata": {
    "accelerator": "GPU",
    "colab": {
      "machine_shape": "hm",
      "provenance": []
    },
    "kernelspec": {
      "display_name": "Python 3",
      "name": "python3"
    },
    "language_info": {
      "name": "python"
    }
  },
  "nbformat": 4,
  "nbformat_minor": 0
}